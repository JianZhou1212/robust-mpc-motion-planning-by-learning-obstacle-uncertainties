{
 "cells": [
  {
   "cell_type": "markdown",
   "id": "8811efad-ca64-4d84-98ae-34ea6c6dea54",
   "metadata": {
    "tags": []
   },
   "source": [
    "## Import Necessary Packages"
   ]
  },
  {
   "cell_type": "code",
   "execution_count": 1,
   "id": "f1937c12-5b13-4f30-a733-55adad71bfc6",
   "metadata": {},
   "outputs": [
    {
     "name": "stdout",
     "output_type": "stream",
     "text": [
      "Using matplotlib backend: <object object at 0x000001399D0A7380>\n"
     ]
    }
   ],
   "source": [
    "import casadi\n",
    "import random\n",
    "import numpy as np\n",
    "from pytope import Polytope\n",
    "import matplotlib\n",
    "import matplotlib.pyplot as plt\n",
    "import time\n",
    "\n",
    "from Planner_D import Planner_D\n",
    "from Planner_P import Planner_P\n",
    "from Planner_R import Planner_R\n",
    "from ModelingSVTrue import ModelingSVTrue\n",
    "\n",
    "%matplotlib auto"
   ]
  },
  {
   "cell_type": "markdown",
   "id": "5c8f2c6b-d897-4dae-ac2c-a4ddd741853c",
   "metadata": {
    "tags": []
   },
   "source": [
    "## Estimate the Initial Control Set for Proposed Approach"
   ]
  },
  {
   "cell_type": "code",
   "execution_count": 2,
   "id": "c0dfd88a-cbec-4c6e-afdc-b768471fde66",
   "metadata": {},
   "outputs": [],
   "source": [
    "class Initialization_Set_Estimation( ):\n",
    "    def __init__(self, Params):\n",
    "        \n",
    "        self.N_Sam = Params['N_pre_sam']\n",
    "        self.H     = Params['H']\n",
    "        self.h     = Params['h']\n",
    "        self.nv    = Params['nv']\n",
    "        self.nu    = Params['nu']\n",
    "        self.LinearProgramming = self.LinearProgramming( )\n",
    "    \n",
    "    def Return(self, samples, U_SV_Poly):\n",
    "        \n",
    "        theta_initial, y_initial = self.LinearProgramming(samples)\n",
    "        fW = Polytope(self.H, theta_initial)\n",
    "        U_hat_initial = fW + y_initial\n",
    "        \n",
    "        return theta_initial.full(), y_initial.full(), U_hat_initial\n",
    "    \n",
    "    def LinearProgramming(self): \n",
    "        H = self.H\n",
    "        h = self.h\n",
    "        N_Sam = self.N_Sam\n",
    "        nv = self.nv\n",
    "        nu = self.nu\n",
    "        \n",
    "        opti = casadi.Opti( )\n",
    "        \n",
    "        rho = opti.variable( )\n",
    "        theta = opti.variable(nv, 1)\n",
    "        y = opti.variable(nu, 1)\n",
    "        \n",
    "        samples = opti.parameter(self.nu, N_Sam)\n",
    "        \n",
    "        opti.minimize(rho + np.ones((1, nv))@theta)\n",
    "        \n",
    "        for i in range(N_Sam):\n",
    "            opti.subject_to(-H @ y <= theta - H @ samples[:, i])\n",
    "\n",
    "        opti.subject_to(H @ y <= 1 - rho)\n",
    "        opti.subject_to(opti.bounded(0, theta, 1))\n",
    "        opti.subject_to(opti.bounded(0, rho, 1))\n",
    "        opti.subject_to(theta <= rho)\n",
    "            \n",
    "        opts = {\"ipopt.print_level\": 0, \"print_time\": False}\n",
    "        opti.solver('ipopt', opts)\n",
    "        \n",
    "        return opti.to_function('f', [samples], [theta, y])"
   ]
  },
  {
   "cell_type": "markdown",
   "id": "2b25d76b-f51f-40c7-8d2b-cd1dc1f4bdd9",
   "metadata": {},
   "source": [
    "## General Parameters"
   ]
  },
  {
   "cell_type": "code",
   "execution_count": 3,
   "id": "1f206e1a-d7f5-4e6c-bc98-14894fd8d6ff",
   "metadata": {
    "tags": []
   },
   "outputs": [],
   "source": [
    "T = 0.25  # time interval\n",
    "N = 10    # prediction horizon of EV\n",
    "N_SV = 10 # prediction horizon of SV\n",
    "infinity  = 1000000 # infinity\n",
    "max_speed = 1.5     # max speed, m/s\n",
    "l_veh_sv  = 0.36    # vehicle length -- SV\n",
    "w_veh_sv  = 0.23    # vehicle width  -- SV\n",
    "l_veh_ev  = 0.26    # vehicle length -- EV\n",
    "w_veh_ev  = 0.25    # vehicle width  -- EV\n",
    "DEV  = 5 # dimenstion of EV\n",
    "DSV  = 4 # dimenstion of SV\n",
    "x_low  = 0 + l_veh_sv/2  # min x position, m\n",
    "y_low  = 0 + l_veh_sv/2  # min y position, m\n",
    "x_up   = 8 - l_veh_sv/2  # max x position, m\n",
    "y_up   = 8 - l_veh_sv/2  # max y position, m\n",
    "Drive_area = Polytope(np.array([[x_low, y_low], [x_up, y_low], [x_up, y_up], [x_low, y_up]])) # drivable area\n",
    "A_road = Drive_area.A\n",
    "b_road = Drive_area.b \n",
    "\n",
    "# Following is to model the SV in the EV controller\n",
    "A_SV = np.array([[1, T, 0, 0], [0, 1, 0, 0], [0, 0, 1, T], [0, 0, 0, 1]]) # A matrix of SV model\n",
    "B_SV = np.array([[0.5*T**2, 0], [T, 0], [0, 0.5*T**2], [0, T]])           # B matrix of SV model\n",
    "low_bound_control  = (-1, -1)   # lower bound on ax ay\n",
    "up_bound_control   = (1,   1)   # upper bound on ax ay\n",
    "X_SV_Poly = Polytope(lb = (x_low, 0, y_low, 0),   ub = (x_up, max_speed, y_up, max_speed)) # state admissible set of SV\n",
    "U_SV_Poly = Polytope(lb = low_bound_control, ub = up_bound_control) # control admissible set of SV\n",
    "H = U_SV_Poly.A\n",
    "h = U_SV_Poly.b\n",
    "nv = np.size(H, 0)\n",
    "nu = np.size(H, 1)\n",
    "for i in range(nv):\n",
    "    H[i, :] = H[i, :]/h[i]\n",
    "    h[i] = 1\n",
    "    \n",
    "d_min    = np.sqrt((l_veh_sv/2)**2 + (w_veh_sv/2)**2) + np.sqrt((l_veh_ev/2)**2 + (w_veh_ev/2)**2) # safe distance between EV and SV\n",
    "d_margin = 0.01 # only used in deterministic approach\n",
    "RefPos_EV = [7, 5.5, 0]      # reference state of EV (x, y, phi)\n",
    "RefPos_SV = [1, 6.75, np.pi] # reference state of SV (x, y, phi)\n",
    "x_EV_initial = np.array([0.2, 0.2, 0, 0, 0]) # initial state of EV: x, y phi, v, a\n",
    "x_SV_initial = np.array([6.25, 1.2, -0.25*np.pi, 0])# initial state of SV: x, y, phi, v, "
   ]
  },
  {
   "cell_type": "markdown",
   "id": "c67dfc17-4b82-4db6-bfaa-d1b93af5a278",
   "metadata": {},
   "source": [
    "## Define Parameter Set for EV and SV Controllers"
   ]
  },
  {
   "cell_type": "code",
   "execution_count": 4,
   "id": "83010fb3-84de-498b-9151-ff5ff40ca46c",
   "metadata": {
    "tags": []
   },
   "outputs": [],
   "source": [
    "N_Car = 2 # number of vehicles\n",
    "opts_Parameters_EV = { \n",
    "    'd_min': d_min,\n",
    "    'T': T,     \n",
    "    'N': N,\n",
    "    'l_f': 0.08,\n",
    "    'l_r': 0.08,\n",
    "    'DEV': DEV,\n",
    "    'N_Car':N_Car,\n",
    "    'H': H,\n",
    "    'h': h,\n",
    "    'nv': nv,\n",
    "    'nu': nu,\n",
    "    'A_SV': A_SV,\n",
    "    'B_SV': B_SV,\n",
    "    'U_SV_Poly': U_SV_Poly,\n",
    "    'infinity': infinity,\n",
    "    'max_speed': max_speed,\n",
    "    'd_min': d_min,\n",
    "    'd_margin': d_margin,\n",
    "    'Q1': 1, # steering wheel angle\n",
    "    'Q2': 1, # longitudinal jerk\n",
    "    'Q3': 1, # long. velocity error\n",
    "    'Q4': 5, # long. pos. error\n",
    "    'Q5': 5, # lat. pos. error\n",
    "    'Q6': 2, # heading. error\n",
    "    'Q7': 300, # slack variable\n",
    "    'A_road': A_road,\n",
    "    'b_road': b_road,\n",
    "    'v_low': 0, # lower bound of vel.\n",
    "    'v_up': max_speed, # up bound of vel.\n",
    "    'acc_low': -0.5,  # lower bound of acc.\n",
    "    'acc_up': 0.5,     # up bound of acc.\n",
    "    'delta_low': -0.3, # lower bound of front tire angle.\n",
    "    'delta_up': 0.3, # up bound of front tire angle\n",
    "    'RefSpeed': 0, # terminal reference speed of EV\n",
    "    'RefPos': RefPos_EV, # terminal reference x-y position of EV\n",
    "}\n",
    "\n",
    "opts_Parameters_SVTrue = { \n",
    "    'T': T,     \n",
    "    'N': N_SV,\n",
    "    'l_f': 0.14,\n",
    "    'l_r': 0.14,\n",
    "    'DSV': 4,\n",
    "    'Q1': 1, # steering wheel angle\n",
    "    'Q2': 1, # longitudinal acceleration\n",
    "    'Q3': 4, # heading. velocity error\n",
    "    'Q4': 4, # long. pos. error\n",
    "    'Q5': 4, # lat. pos. error\n",
    "    'Q6': 4, # velocity error\n",
    "    'A_road': A_road,\n",
    "    'b_road': b_road,\n",
    "    'v_low': 0, # lower bound of vel.\n",
    "    'v_up': max_speed, # up bound of vel.\n",
    "    'acc_low': -0.3, #-3.43, # lower bound of acc.\n",
    "    'acc_up': 0.3,#2.27, # up bound of acc.\n",
    "    'delta_low': -0.6, # lowver bound of front tire angle.\n",
    "    'delta_up': 0.6, # up bound of front tire angle\n",
    "}"
   ]
  },
  {
   "cell_type": "markdown",
   "id": "17faa3bb-4bbe-49aa-93bd-ea6e086403a8",
   "metadata": {
    "tags": []
   },
   "source": [
    "## Motion Planning"
   ]
  },
  {
   "cell_type": "code",
   "execution_count": 5,
   "id": "cd9a19aa-e9a0-4d76-9411-6b0937d1a93a",
   "metadata": {
    "tags": []
   },
   "outputs": [],
   "source": [
    "MotionPlanner_D =  Planner_D(Params     = opts_Parameters_EV)\n",
    "MotionPlanner_P =  Planner_P(Params     = opts_Parameters_EV)\n",
    "MotionPlanner_R =  Planner_R(Params     = opts_Parameters_EV)\n",
    "ModelingSVTrue  = ModelingSVTrue(Params = opts_Parameters_SVTrue)"
   ]
  },
  {
   "cell_type": "code",
   "execution_count": 6,
   "id": "a3fc167e-d068-4ab8-b1c9-4535f4256d11",
   "metadata": {},
   "outputs": [
    {
     "name": "stdout",
     "output_type": "stream",
     "text": [
      "\n",
      "******************************************************************************\n",
      "This program contains Ipopt, a library for large-scale nonlinear optimization.\n",
      " Ipopt is released as open source code under the Eclipse Public License (EPL).\n",
      "         For more information visit https://github.com/coin-or/Ipopt\n",
      "******************************************************************************\n",
      "\n"
     ]
    }
   ],
   "source": [
    "# This section is to obtain the initially estimated control set of the proposed approach\n",
    "N_pre_sam  = 8 # number of artifical samples\n",
    "min_s      = 0.01\n",
    "samples_SV = np.array([[-min_s, -min_s], [-min_s, 0], [-min_s, min_s], [0, min_s], [min_s, min_s], [min_s, 0], [min_s, -min_s], [0, -min_s]])\n",
    "samples_SV = samples_SV.reshape(2, N_pre_sam)\n",
    "opts_Parameters_Initial_Set_Estimation ={'N_pre_sam': N_pre_sam,'H': H, 'h': h,'nv': nv,'nu': nu}\n",
    "Initialization_Set_Estimation = Initialization_Set_Estimation(Params = opts_Parameters_Initial_Set_Estimation)\n",
    "theta_initial, y_initial, U_hat_initial = Initialization_Set_Estimation.Return(samples_SV, U_SV_Poly)"
   ]
  },
  {
   "cell_type": "code",
   "execution_count": 7,
   "id": "ef1069b7-d655-4818-8fdf-46e056ef9aa9",
   "metadata": {},
   "outputs": [],
   "source": [
    "K_P = 55 # simulation steps\n",
    "# SV\n",
    "State_SV   = np.zeros((4, K_P + 1))\n",
    "Control_SV =  np.zeros((2, K_P))\n",
    "# EV: state\n",
    "State_EV_D     = np.zeros((DEV, K_P + 1))\n",
    "State_EV_P     = np.zeros((DEV, K_P + 1))\n",
    "State_EV_R     = np.zeros((DEV, K_P + 1))\n",
    "# EV: control action\n",
    "Control_EV_D   = np.zeros((2, K_P))\n",
    "Control_EV_P   = np.zeros((2, K_P))\n",
    "Control_EV_R   = np.zeros((2, K_P))\n",
    "# EV: cost\n",
    "J_D = np.array([None]*(K_P))\n",
    "J_P = np.array([None]*(K_P))\n",
    "J_R = np.array([None]*(K_P))\n",
    "# SV & EV planning\n",
    "X_SV_Planning   = list( ) # SV planning full-state trajectory in the horizon\n",
    "X_EV_Planning_D = list( )\n",
    "X_EV_Planning_P = list( )\n",
    "X_EV_Planning_R = list( )\n",
    "# EV: robust tube\n",
    "Aug_Occupancy_SV_D = list( ) # augmented description of occupancy of SV over prediction horizon \n",
    "Aug_Occupancy_SV_P = list( ) # augmented description of occupancy of SV over prediction horizon \n",
    "Aug_Occupancy_SV_R = list( )  # augmented description of occupancy of SV over prediction horizon \n",
    "# EV: set parameters for online iteration of the uncertainty quantification\n",
    "Theta = list( ) # save the value of alpha_k at very time step\n",
    "Y     = list( )  # save the value of rho_k at every time step\n",
    "U_Hat = list( ) # save the polytope \\hat{U}_k at every time step\n",
    "# initiate\n",
    "State_SV[:, 0]   = x_SV_initial\n",
    "State_EV_D[:, 0] = x_EV_initial\n",
    "State_EV_P[:, 0] = x_EV_initial\n",
    "State_EV_R[:, 0] = x_EV_initial\n",
    "Theta.append(theta_initial)\n",
    "Y.append(y_initial)\n",
    "U_Hat.append(U_hat_initial)"
   ]
  },
  {
   "cell_type": "code",
   "execution_count": 8,
   "id": "2fc35a78-2745-40bd-869b-499abea959bf",
   "metadata": {
    "tags": []
   },
   "outputs": [
    {
     "name": "stdout",
     "output_type": "stream",
     "text": [
      "the step is 0\n",
      "the step is 1\n",
      "the step is 2\n",
      "the step is 3\n",
      "the step is 4\n",
      "the step is 5\n",
      "the step is 6\n",
      "the step is 7\n",
      "the step is 8\n",
      "the step is 9\n",
      "the step is 10\n",
      "the step is 11\n",
      "the step is 12\n",
      "the step is 13\n",
      "the step is 14\n",
      "the step is 15\n",
      "the step is 16\n",
      "the step is 17\n",
      "the step is 18\n",
      "the step is 19\n",
      "the step is 20\n",
      "the step is 21\n",
      "the step is 22\n",
      "the step is 23\n",
      "the step is 24\n",
      "the step is 25\n",
      "the step is 26\n",
      "the step is 27\n",
      "the step is 28\n",
      "the step is 29\n",
      "the step is 30\n",
      "the step is 31\n",
      "the step is 32\n",
      "the step is 33\n",
      "the step is 34\n",
      "the step is 35\n",
      "the step is 36\n",
      "the step is 37\n",
      "the step is 38\n",
      "the step is 39\n",
      "the step is 40\n",
      "the step is 41\n",
      "the step is 42\n",
      "the step is 43\n",
      "the step is 44\n",
      "the step is 45\n",
      "the step is 46\n",
      "the step is 47\n",
      "the step is 48\n",
      "the step is 49\n",
      "the step is 50\n",
      "the step is 51\n",
      "the step is 52\n",
      "the step is 53\n",
      "the step is 54\n"
     ]
    }
   ],
   "source": [
    "for k in range(K_P):\n",
    "    if k == 0:\n",
    "        u_sv_before = samples_SV[:, -1]\n",
    "    else:\n",
    "        u_sv_before = np.array([Control_SV[:, k-1][1]*np.cos(State_SV[:, k-1][2]), Control_SV[:, k-1][1]*np.sin(State_SV[:, k-1][2])])\n",
    "    print('the step is', k)\n",
    "    control_SV_k, x_SV_planning_k = ModelingSVTrue.Return(State_SV[:, k], RefPos_SV)\n",
    "    U_k_D, trajectory_planning_k_D, J_D_k, Occupancy_SV_aug_D_k = MotionPlanner_D.Return(State_SV[:, k],  State_EV_D[:, k])\n",
    "    U_k_P, trajectory_planning_k_P, J_P_k, Occupancy_SV_aug_P_k, theta_k, y_k, U_hat_k = MotionPlanner_P.Return(State_SV[:, k], State_EV_P[:, k], Theta[-1], Y[-1], u_sv_before)\n",
    "    U_k_R, trajectory_planning_k_R, J_R_k, Occupancy_SV_aug_R_k = MotionPlanner_R.Return(State_SV[:, k], State_EV_R[:, k])\n",
    "   \n",
    "    Control_SV[:, k] = control_SV_k\n",
    "    X_SV_Planning.append(x_SV_planning_k)\n",
    "    State_SV[:, k + 1] = x_SV_planning_k[:, 1]\n",
    "    \n",
    "    X_EV_Planning_D.append(trajectory_planning_k_D)\n",
    "    State_EV_D[:, k+1] = trajectory_planning_k_D[:, 1]\n",
    "    Control_EV_D[:, k] = U_k_D\n",
    "    Aug_Occupancy_SV_D.append(Occupancy_SV_aug_D_k)\n",
    "\n",
    "    X_EV_Planning_P.append(trajectory_planning_k_P)\n",
    "    State_EV_P[:, k+1] = trajectory_planning_k_P[:, 1]\n",
    "    Control_EV_P[:, k] = U_k_P\n",
    "    Aug_Occupancy_SV_P.append(Occupancy_SV_aug_P_k)\n",
    "    Theta.append(theta_k)\n",
    "    Y.append(y_k)\n",
    "    U_Hat.append(U_hat_k)\n",
    "\n",
    "    X_EV_Planning_R.append(trajectory_planning_k_R)\n",
    "    State_EV_R[:, k + 1] = trajectory_planning_k_R[:, 1]\n",
    "    Control_EV_R[:, k] = U_k_R\n",
    "    Aug_Occupancy_SV_R.append(Occupancy_SV_aug_R_k)\n",
    "    \n",
    "    J_D[k] = J_D_k\n",
    "    J_P[k] = J_P_k\n",
    "    J_R[k] = J_R_k\n",
    "    \n",
    "    samples_SV = np.hstack((samples_SV, np.array([Control_SV[:, k][1]*np.cos(State_SV[:, k][2]), Control_SV[:, k][1]*np.sin(State_SV[:, k][2])]).reshape(2, 1)))\n",
    "print('Done')    \n",
    "t = np.arange(0, T*(K_P + 1), T, dtype=float) # total simulation time steps"
   ]
  },
  {
   "cell_type": "markdown",
   "id": "ec083601-e061-4cf6-b397-389042023a38",
   "metadata": {},
   "source": [
    "## Save the Data"
   ]
  },
  {
   "cell_type": "code",
   "execution_count": 9,
   "id": "9a311b1d-3e2e-4bfa-a28b-f7f7f75bf748",
   "metadata": {},
   "outputs": [],
   "source": [
    "import os\n",
    "np.save(os.path.join('plot', 't'), t)\n",
    "np.save(os.path.join('plot', 'RefPos_EV'), RefPos_EV)\n",
    "np.save(os.path.join('plot', 'RefPos_SV'), RefPos_SV)\n",
    "np.save(os.path.join('plot', 'State_SV'), State_SV)\n",
    "np.save(os.path.join('plot', 'Control_SV'), Control_SV)\n",
    "\n",
    "np.save(os.path.join('plot', 'State_EV_D'), State_EV_D)\n",
    "np.save(os.path.join('plot', 'State_EV_P'), State_EV_P)\n",
    "np.save(os.path.join('plot', 'State_EV_R'), State_EV_R)\n",
    "np.save(os.path.join('plot', 'Control_EV_D'), Control_EV_D)\n",
    "np.save(os.path.join('plot', 'Control_EV_P'), Control_EV_P)\n",
    "np.save(os.path.join('plot', 'Control_EV_R'), Control_EV_R)\n",
    "np.save(os.path.join('plot', 'J_D'), J_D)\n",
    "np.save(os.path.join('plot', 'J_P'), J_P)\n",
    "np.save(os.path.join('plot', 'J_R'), J_R)\n",
    "np.save(os.path.join('plot', 'X_SV_Planning'), X_SV_Planning)\n",
    "np.save(os.path.join('plot', 'X_EV_Planning_D'), X_EV_Planning_D)\n",
    "np.save(os.path.join('plot', 'X_EV_Planning_P'), X_EV_Planning_P)\n",
    "np.save(os.path.join('plot', 'X_EV_Planning_R'), X_EV_Planning_R)"
   ]
  }
 ],
 "metadata": {
  "kernelspec": {
   "display_name": "Python 3 (ipykernel)",
   "language": "python",
   "name": "python3"
  },
  "language_info": {
   "codemirror_mode": {
    "name": "ipython",
    "version": 3
   },
   "file_extension": ".py",
   "mimetype": "text/x-python",
   "name": "python",
   "nbconvert_exporter": "python",
   "pygments_lexer": "ipython3",
   "version": "3.10.11"
  }
 },
 "nbformat": 4,
 "nbformat_minor": 5
}
