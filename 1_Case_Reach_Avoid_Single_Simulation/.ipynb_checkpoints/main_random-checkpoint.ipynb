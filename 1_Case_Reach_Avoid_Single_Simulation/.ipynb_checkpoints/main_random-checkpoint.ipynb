{
 "cells": [
  {
   "cell_type": "code",
   "execution_count": 1,
   "id": "48573a1a-2e88-4397-88d7-a5a16bb2b65f",
   "metadata": {
    "tags": []
   },
   "outputs": [],
   "source": [
    "import casadi\n",
    "import random\n",
    "import numpy as np\n",
    "from pytope import Polytope\n",
    "import matplotlib.pyplot as plt\n",
    "import time\n",
    "import scipy.io as scio\n",
    "import scipy.stats as stats\n",
    "import matplotlib.animation as animation\n",
    "from matplotlib.gridspec import GridSpec\n",
    "\n",
    "from Planner_D import Planner_D\n",
    "from Planner_N import Planner_N\n",
    "from Planner_R import Planner_R\n",
    "\n",
    "from ModelingSVTrue import ModelingSVTrue"
   ]
  },
  {
   "cell_type": "code",
   "execution_count": 2,
   "id": "c0dfd88a-cbec-4c6e-afdc-b768471fde66",
   "metadata": {},
   "outputs": [],
   "source": [
    "class Initialization_Set_Estimation( ):\n",
    "    def __init__(self, Params):\n",
    "        \n",
    "        self.N_Sam = Params['N_pre_sam']\n",
    "        self.H = Params['H']\n",
    "        self.h = Params['h']\n",
    "        self.nv = Params['nv']\n",
    "        self.nu = Params['nu']\n",
    "        self.LinearProgramming = self.LinearProgramming( )\n",
    "    \n",
    "    def Return(self, samples, U_SV_Poly):\n",
    "        \n",
    "        theta_initial, y_initial = self.LinearProgramming(samples)\n",
    "        fW = Polytope(self.H, theta_initial)\n",
    "        U_hat_initial = fW + y_initial\n",
    "        \n",
    "        return theta_initial, y_initial, U_hat_initial\n",
    "    \n",
    "    def LinearProgramming(self): \n",
    "        H = self.H\n",
    "        h = self.h\n",
    "        N_Sam = self.N_Sam\n",
    "        nv = self.nv\n",
    "        nu = self.nu\n",
    "        \n",
    "        opti = casadi.Opti( )\n",
    "        \n",
    "        rho = opti.variable( )\n",
    "        theta = opti.variable(nv, 1)\n",
    "        y = opti.variable(nu, 1)\n",
    "        \n",
    "        samples = opti.parameter(self.nu, N_Sam)\n",
    "        \n",
    "        opti.minimize(rho + np.ones((1, nv))@theta)\n",
    "        \n",
    "        for i in range(N_Sam):\n",
    "            opti.subject_to(-H @ y <= theta - H @ samples[:, i])\n",
    "\n",
    "        opti.subject_to(H @ y <= 1 - rho)\n",
    "        opti.subject_to(opti.bounded(0, theta, 1))\n",
    "        opti.subject_to(opti.bounded(0, rho, 1))\n",
    "        opti.subject_to(theta <= rho)\n",
    "            \n",
    "        opts = {\"ipopt.print_level\": 0, \"print_time\": False}\n",
    "        opti.solver('ipopt', opts)\n",
    "        \n",
    "        return opti.to_function('f', [samples], [theta, y])"
   ]
  },
  {
   "cell_type": "markdown",
   "id": "2b25d76b-f51f-40c7-8d2b-cd1dc1f4bdd9",
   "metadata": {},
   "source": [
    "## Basic Parameters"
   ]
  },
  {
   "cell_type": "markdown",
   "id": "612bfeed-3b84-49cd-bb77-111301560ef1",
   "metadata": {},
   "source": [
    "### General Parameters"
   ]
  },
  {
   "cell_type": "code",
   "execution_count": 3,
   "id": "1f206e1a-d7f5-4e6c-bc98-14894fd8d6ff",
   "metadata": {
    "tags": []
   },
   "outputs": [],
   "source": [
    "T = 0.25 # time interval\n",
    "N = 10   # prediction horizon\n",
    "infinity  = 1000000 # infinity\n",
    "max_speed = 1.5     # max speed, m/s\n",
    "l_veh_sv  = 0.36  \n",
    "w_veh_sv  = 0.23  \n",
    "l_veh_ev  = 0.26  \n",
    "w_veh_ev  = 0.25  \n",
    "DEV  = 5 # dimenstion of EV\n",
    "DSV  = 4 # dimenstion of SV\n",
    "x_low  = 0 + l_veh_sv/2  # min x position, m\n",
    "y_low  = 0 + l_veh_sv/2  # min y position, m\n",
    "x_up   = 8 - l_veh_sv/2  # max x position, m\n",
    "y_up   = 8 - l_veh_sv/2  # max y position, m\n",
    "Drive_area        = Polytope(np.array([[x_low, y_low], [x_up, y_low], [x_up, y_up], [x_low, y_up]])) \n",
    "A_road = Drive_area.A\n",
    "b_road = Drive_area.b "
   ]
  },
  {
   "cell_type": "markdown",
   "id": "4b3770fa-00f6-49d5-a0d9-8e05109b3af8",
   "metadata": {},
   "source": [
    "### Surrouding Vehicle Information--Modeling"
   ]
  },
  {
   "cell_type": "code",
   "execution_count": 4,
   "id": "4100da02-0779-4e6d-87fb-a7f56378f74f",
   "metadata": {},
   "outputs": [],
   "source": [
    "A_SV = np.array([[1, T, 0, 0], [0, 1, 0, 0], [0, 0, 1, T], [0, 0, 0, 1]])\n",
    "B_SV = np.array([[0.5*T**2, 0], [T, 0], [0, 0.5*T**2], [0, T]])\n",
    "low_bound_control  = (-1, -1)   # lower bound on ax ay\n",
    "up_bound_control   = (1,   1)   # upper bound on ax ay\n",
    "\n",
    "X_SV_Poly = Polytope(lb = (x_low, 0, y_low, 0),   ub = (x_up, max_speed, y_up, max_speed)) # state admissible set of SV\n",
    "U_SV_Poly = Polytope(lb = low_bound_control, ub = up_bound_control) # control admissible set of SV\n",
    "\n",
    "H = U_SV_Poly.A\n",
    "h = U_SV_Poly.b\n",
    "nv = np.size(H, 0)\n",
    "nu = np.size(H, 1)\n",
    "for i in range(nv):\n",
    "    H[i, :] = H[i, :]/h[i]\n",
    "    h[i] = 1\n",
    "    \n",
    "d_min    = np.sqrt((l_veh_sv/2)**2 + (w_veh_sv/2)**2) + np.sqrt((l_veh_ev/2)**2 + (w_veh_ev/2)**2)\n",
    "d_margin = 0.01"
   ]
  },
  {
   "cell_type": "code",
   "execution_count": 5,
   "id": "c9bfc8dc-40ba-4277-9801-aa3310ce98fc",
   "metadata": {},
   "outputs": [],
   "source": [
    "RefPos_EV = [7, 5.5, 0]\n",
    "RefPos_SV = [1, 6.75, np.pi] #[1, 6.75, np.pi]\n",
    "x_EV_initial = np.array([0.2, 0.2, 0, 0, 0]) # initial state of EV: x, y phi, v, a\n",
    "#np.array([6.25, 1, -0.25*np.pi, 0])  # initial state of SV: x, y, phi, v, "
   ]
  },
  {
   "cell_type": "markdown",
   "id": "c67dfc17-4b82-4db6-bfaa-d1b93af5a278",
   "metadata": {},
   "source": [
    "### Ego Vehicle Information"
   ]
  },
  {
   "cell_type": "code",
   "execution_count": 6,
   "id": "8cf20402-7731-4833-aa9b-e5d743054bc9",
   "metadata": {
    "tags": []
   },
   "outputs": [],
   "source": [
    "N_Car = 2\n",
    "opts_Parameters_EV = { \n",
    "    'd_min': d_min,\n",
    "    'T': T,     \n",
    "    'N': N,\n",
    "    'l_veh': l_veh_ev,\n",
    "    'w_veh': w_veh_ev,\n",
    "    'l_f': 0.08,\n",
    "    'l_r': 0.08,\n",
    "    'DEV': DEV,\n",
    "    'N_Car':N_Car,\n",
    "    'H': H,\n",
    "    'h': h,\n",
    "    'nv': nv,\n",
    "    'nu': nu,\n",
    "    'A_SV': A_SV,\n",
    "    'B_SV': B_SV,\n",
    "    'U_SV_Poly': U_SV_Poly,\n",
    "    'infinity': infinity,\n",
    "    'max_speed': max_speed,\n",
    "    'd_min': d_min,\n",
    "    'd_margin': d_margin,\n",
    "    'Q1': 1, # steering wheel angle\n",
    "    'Q2': 1, # longitudinal jerk\n",
    "    'Q3': 1, # long. velocity error\n",
    "    'Q4': 5, # long. pos. error\n",
    "    'Q5': 5, # lat. pos. error\n",
    "    'Q6': 2, # heading. error\n",
    "    'Q7': 300, # slack variable\n",
    "    'A_road': A_road,\n",
    "    'b_road': b_road,\n",
    "    'v_low': 0, # lower bound of vel.\n",
    "    'v_up': max_speed, # up bound of vel.\n",
    "    'acc_low': -0.5,  # lower bound of acc.\n",
    "    'acc_up': 0.5,     # up bound of acc.\n",
    "    'delta_low': -0.3, # lower bound of front tire angle.\n",
    "    'delta_up': 0.3, # up bound of front tire angle\n",
    "    'RefSpeed': 0, # terminal reference speed of EV\n",
    "    'RefPos': RefPos_EV, # terminal reference x-y position of EV\n",
    "}"
   ]
  },
  {
   "cell_type": "markdown",
   "id": "d004336a-a84c-4703-a20f-67068b65a25d",
   "metadata": {},
   "source": [
    "### Surrounding Vehicle Information--True Model"
   ]
  },
  {
   "cell_type": "code",
   "execution_count": 7,
   "id": "0ab8606c-0cd2-4382-a155-7d4e0004ae3a",
   "metadata": {},
   "outputs": [],
   "source": [
    "opts_Parameters_SVTrue = { \n",
    "    'T': T,     \n",
    "    'N': N,\n",
    "    'l_veh': l_veh_sv,\n",
    "    'w_veh': w_veh_sv,\n",
    "    'l_f': 0.14,\n",
    "    'l_r': 0.14,\n",
    "    'DSV': 4,\n",
    "    'Q1': 1, # steering wheel angle\n",
    "    'Q2': 1, # longitudinal acceleration\n",
    "    'Q3': 4, # heading. velocity error\n",
    "    'Q4': 4, # long. pos. error\n",
    "    'Q5': 4, # lat. pos. error\n",
    "    'Q6': 4, # velocity error\n",
    "    'A_road': A_road,\n",
    "    'b_road': b_road,\n",
    "    'v_low': 0, # lower bound of vel.\n",
    "    'v_up': max_speed, # up bound of vel.\n",
    "    'acc_low': -0.3, #-3.43, # lower bound of acc.\n",
    "    'acc_up': 0.3,#2.27, # up bound of acc.\n",
    "    'delta_low': -0.6, # lowver bound of front tire angle.\n",
    "    'delta_up': 0.6, # up bound of front tire angle\n",
    "}"
   ]
  },
  {
   "cell_type": "markdown",
   "id": "17faa3bb-4bbe-49aa-93bd-ea6e086403a8",
   "metadata": {
    "tags": []
   },
   "source": [
    "## Motion Planning"
   ]
  },
  {
   "cell_type": "code",
   "execution_count": 8,
   "id": "950e44be-5967-42c3-97cc-1437688adab2",
   "metadata": {},
   "outputs": [],
   "source": [
    "MotionPlanner_D =  Planner_D(Params = opts_Parameters_EV)\n",
    "MotionPlanner_N =  Planner_N(Params = opts_Parameters_EV)\n",
    "MotionPlanner_R =  Planner_R(Params = opts_Parameters_EV)\n",
    "ModelingSVTrue = ModelingSVTrue(Params = opts_Parameters_SVTrue)\n",
    "\n",
    "# SV: storage of every loop \n",
    "State_SV_MC = list( ) # SV full state\n",
    "Control_SV_MC          = list( ) # SV full control\n",
    "\n",
    "# EV: storage of every loop\n",
    "State_EV_D_MC = list( )\n",
    "Control_EV_D_MC = list( )\n",
    "\n",
    "State_EV_N_MC = list( )\n",
    "Control_EV_N_MC = list( )\n",
    "\n",
    "State_EV_R_MC = list( )\n",
    "Control_EV_R_MC = list( )\n",
    "\n",
    "J_D_MC = list( )\n",
    "J_N_MC = list( )\n",
    "J_R_MC = list( )\n",
    "\n",
    "Theta_MC = list( ) \n",
    "Y_MC    = list( )   \n",
    "U_Hat_MC = list( ) "
   ]
  },
  {
   "cell_type": "code",
   "execution_count": 9,
   "id": "37cf1e6f-97a5-4dba-8e29-88535b8c29a7",
   "metadata": {},
   "outputs": [
    {
     "name": "stdout",
     "output_type": "stream",
     "text": [
      "\n",
      "******************************************************************************\n",
      "This program contains Ipopt, a library for large-scale nonlinear optimization.\n",
      " Ipopt is released as open source code under the Eclipse Public License (EPL).\n",
      "         For more information visit https://github.com/coin-or/Ipopt\n",
      "******************************************************************************\n",
      "\n"
     ]
    }
   ],
   "source": [
    "N_pre_sam  = 8\n",
    "min_s      = 0.01\n",
    "samples_SV = np.array([[-min_s, -min_s], [-min_s, 0], [-min_s, min_s], [0, min_s], [min_s, min_s], [min_s, 0], [min_s, -min_s], [0, -min_s]]) # artifial tiny samples\n",
    "samples_SV = samples_SV.reshape(2, N_pre_sam)\n",
    "opts_Parameters_Initial_Set_Estimation ={'N_pre_sam': N_pre_sam,'H': H, 'h': h,'nv': nv,'nu': nu}\n",
    "Initialization_Set_Estimation = Initialization_Set_Estimation(Params = opts_Parameters_Initial_Set_Estimation)\n",
    "theta_initial, y_initial, U_hat_initial = Initialization_Set_Estimation.Return(samples_SV, U_SV_Poly)"
   ]
  },
  {
   "cell_type": "code",
   "execution_count": 10,
   "id": "8d4265d5-667e-4ad6-b16c-afac4dd916a8",
   "metadata": {
    "tags": []
   },
   "outputs": [
    {
     "name": "stdout",
     "output_type": "stream",
     "text": [
      "the loop is 0\n",
      "the loop is 1\n",
      "the loop is 2\n",
      "the loop is 3\n",
      "the loop is 4\n",
      "the loop is 5\n",
      "the loop is 6\n",
      "the loop is 7\n",
      "the loop is 8\n",
      "the loop is 9\n"
     ]
    }
   ],
   "source": [
    "TIME = 0\n",
    "x_low_SV  = 6.2\n",
    "x_up_SV   = 6.3\n",
    "y_low_SV  = 0.9\n",
    "y_up_SV   = 1.2\n",
    "\n",
    "N_loop = 10\n",
    "for loop in range(N_loop):\n",
    "    print('the loop is', loop)\n",
    "    k = 0\n",
    "    \n",
    "    x_SV_initial = np.array([random.uniform(x_low_SV, x_up_SV), random.uniform(y_low_SV, y_up_SV), -0.25*np.pi, 0])\n",
    "    #x_SV_initial = np.array([6.25, 0.9, -0.25*np.pi, 0])\n",
    "\n",
    "    K_N = 55\n",
    "    # SV\n",
    "    State_SV     = np.zeros((4, K_N + 1))\n",
    "    Control_SV =  np.zeros((2, K_N))\n",
    "    # EV: state\n",
    "    State_EV_D     = np.zeros((DEV, K_N + 1))\n",
    "    State_EV_N      = np.zeros((DEV, K_N + 1))\n",
    "    State_EV_R       = np.zeros((DEV, K_N + 1))\n",
    "    # EV: control action\n",
    "    Control_EV_D  = np.zeros((2, K_N))\n",
    "    Control_EV_N  = np.zeros((2, K_N))\n",
    "    Control_EV_R   = np.zeros((2, K_N))\n",
    "    # EV: cost\n",
    "    J_D = np.array([None]*(K_N))\n",
    "    J_N = np.array([None]*(K_N))\n",
    "    J_R  = np.array([None]*(K_N))\n",
    "    # EV: set parameters for online iteration of the uncertainty quantification\n",
    "    Theta = list( ) # save the value of alpha_k at very time step\n",
    "    Y    = list( )   # save the value of rho_k at every time step\n",
    "    U_Hat = list( ) # save the polytope \\hat{U}_k at every time step\n",
    "    # initiate\n",
    "    State_SV[:, 0]   = x_SV_initial\n",
    "    State_EV_D[:, 0] = x_EV_initial\n",
    "    State_EV_N[:, 0] = x_EV_initial\n",
    "    State_EV_R[:, 0] = x_EV_initial\n",
    "    Theta.append(theta_initial)\n",
    "    Y.append(y_initial)\n",
    "    U_Hat.append(U_hat_initial)\n",
    "    \n",
    "    for k in range(K_N):\n",
    "        if k == 0:\n",
    "            u_sv_before = samples_SV[:, -1]\n",
    "        else:\n",
    "            u_sv_before = np.array([Control_SV[:, k-1][1]*np.cos(State_SV[:, k-1][2]), Control_SV[:, k-1][1]*np.sin(State_SV[:, k-1][2])])\n",
    "        control_SV_k, x_SV_planning_k = ModelingSVTrue.Return(State_SV[:, k], RefPos_SV)\n",
    "        U_k_D, trajectory_planning_k_D, J_D_k,  Occupancy_SV_aug_D_k = MotionPlanner_D.Return(State_SV[:, k],  State_EV_D[:, k])\n",
    "        U_k_N, trajectory_planning_k_N, J_N_k, Occupancy_SV_aug_N_k, theta_k, y_k, U_hat_k = MotionPlanner_N.Return(State_SV[:, k], State_EV_N[:, k], Theta[k-1], Y[k-1], u_sv_before)\n",
    "        U_k_R, trajectory_planning_k_R, J_R_k, Occupancy_SV_aug_R_k = MotionPlanner_R.Return(State_SV[:, k], State_EV_R[:, k])\n",
    "\n",
    "        Control_SV[:, k] = control_SV_k\n",
    "        State_SV[:, k + 1] = x_SV_planning_k[:, 1]\n",
    "\n",
    "        State_EV_D[:, k+1] = trajectory_planning_k_D[:, 1]\n",
    "        Control_EV_D[:, k] = U_k_D\n",
    "\n",
    "        State_EV_N[:, k+1] = trajectory_planning_k_N[:, 1]\n",
    "        Control_EV_N[:, k] = U_k_N\n",
    "        Theta.append(theta_k)\n",
    "        Y.append(y_k)\n",
    "        U_Hat.append(U_hat_k)\n",
    "\n",
    "        State_EV_R[:, k + 1] = trajectory_planning_k_R[:, 1]\n",
    "        Control_EV_R[:, k] = U_k_R\n",
    "\n",
    "        J_D[k] = J_D_k\n",
    "        J_N[k] = J_N_k\n",
    "        J_R[k] = J_R_k\n",
    "\n",
    "        samples_SV = np.hstack((samples_SV, np.array([Control_SV[:, k][1]*np.cos(State_SV[:, k][2]), Control_SV[:, k][1]*np.sin(State_SV[:, k][2])]).reshape(2, 1)))\n",
    "    \n",
    "    # SV: storage of every loop \n",
    "    State_SV_MC.append(State_SV) \n",
    "    Control_SV_MC.append(Control_SV)\n",
    "\n",
    "    # EV: storage of every loop\n",
    "    State_EV_D_MC.append(State_EV_D)\n",
    "    Control_EV_D_MC.append(Control_EV_D)\n",
    "\n",
    "    State_EV_N_MC.append(State_EV_N)\n",
    "    Control_EV_N_MC.append(Control_EV_N)\n",
    "\n",
    "    State_EV_R_MC.append(State_EV_R)\n",
    "    Control_EV_R_MC.append(Control_EV_R)\n",
    "\n",
    "    J_D_MC.append(J_D)\n",
    "    J_N_MC.append(J_N)\n",
    "    J_R_MC.append(J_R)\n",
    "\n",
    "    Theta_MC.append(Theta)\n",
    "    Y_MC.append(Y)\n",
    "    U_Hat_MC.append(U_Hat)\n",
    "    \n",
    "t = np.arange(0, T*(K_N + 1), T, dtype=float) # total simulation time"
   ]
  },
  {
   "cell_type": "markdown",
   "id": "842ec2d5-1632-436a-b983-042593094797",
   "metadata": {},
   "source": [
    "### Collect Data "
   ]
  },
  {
   "cell_type": "code",
   "execution_count": 11,
   "id": "81d1690b-a601-4c12-881b-a6d544681fc5",
   "metadata": {
    "tags": []
   },
   "outputs": [],
   "source": [
    "import os\n",
    "np.save(os.path.join('plot_random', 'RefPos_EV'), RefPos_EV)\n",
    "#np.save(os.path.join('plot_random', 't'), t)\n",
    "\n",
    "np.save(os.path.join('plot_random', 'State_SV_MC_' + str(TIME)), State_SV_MC)\n",
    "np.save(os.path.join('plot_random', 'Control_SV_MC_' + str(TIME)), Control_SV_MC)\n",
    "\n",
    "np.save(os.path.join('plot_random', 'State_EV_D_MC_'+ str(TIME)), State_EV_D_MC)\n",
    "np.save(os.path.join('plot_random', 'State_EV_N_MC_'+ str(TIME)), State_EV_N_MC)\n",
    "np.save(os.path.join('plot_random', 'State_EV_R_MC_'+ str(TIME)), State_EV_R_MC)\n",
    "\n",
    "np.save(os.path.join('plot_random', 'Control_EV_D_MC_'+ str(TIME)), Control_EV_D_MC)\n",
    "np.save(os.path.join('plot_random', 'Control_EV_N_MC_'+ str(TIME)), Control_EV_N_MC)\n",
    "np.save(os.path.join('plot_random', 'Control_EV_R_MC_'+ str(TIME)), Control_EV_R_MC)\n",
    "\n",
    "np.save(os.path.join('plot_random', 'J_D_MC_'+ str(TIME)), J_D_MC)\n",
    "np.save(os.path.join('plot_random', 'J_N_MC_'+ str(TIME)), J_N_MC)\n",
    "np.save(os.path.join('plot_random', 'J_R_MC_'+ str(TIME)), J_R_MC)"
   ]
  }
 ],
 "metadata": {
  "kernelspec": {
   "display_name": "Python 3 (ipykernel)",
   "language": "python",
   "name": "python3"
  },
  "language_info": {
   "codemirror_mode": {
    "name": "ipython",
    "version": 3
   },
   "file_extension": ".py",
   "mimetype": "text/x-python",
   "name": "python",
   "nbconvert_exporter": "python",
   "pygments_lexer": "ipython3",
   "version": "3.10.12"
  }
 },
 "nbformat": 4,
 "nbformat_minor": 5
}
