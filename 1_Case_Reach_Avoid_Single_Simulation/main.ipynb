{
 "cells": [
  {
   "cell_type": "markdown",
   "id": "ff6b0575-4831-4953-8380-be4d183994c9",
   "metadata": {
    "tags": []
   },
   "source": [
    "# Code for Robust Predictive Motion Planning by Learning Obstacle Uncertainty"
   ]
  },
  {
   "cell_type": "markdown",
   "id": "c2eec4ad-dfb2-4d88-942c-1043a4781223",
   "metadata": {},
   "source": [
    "## Import packages"
   ]
  },
  {
   "cell_type": "code",
   "execution_count": 1,
   "id": "46642a83-b2f6-4fa5-9e94-86df63882652",
   "metadata": {},
   "outputs": [
    {
     "name": "stdout",
     "output_type": "stream",
     "text": [
      "Using matplotlib backend: <object object at 0x7f8958577710>\n"
     ]
    }
   ],
   "source": [
    "import casadi\n",
    "import random\n",
    "import numpy as np\n",
    "from pytope import Polytope\n",
    "import matplotlib\n",
    "import matplotlib.pyplot as plt\n",
    "import time\n",
    "import scipy.io as scio\n",
    "import scipy.stats as stats\n",
    "import matplotlib.animation as animation\n",
    "from matplotlib.gridspec import GridSpec\n",
    "import warnings\n",
    "warnings.filterwarnings(\"ignore\", category=matplotlib.MatplotlibDeprecationWarning)\n",
    "\n",
    "from Planner_D import Planner_D\n",
    "from Planner_N import Planner_N\n",
    "from Planner_R import Planner_R\n",
    "\n",
    "from ModelingSVTrue import ModelingSVTrue\n",
    "\n",
    "from shapely.geometry import Polygon, Point\n",
    "\n",
    "%matplotlib auto"
   ]
  },
  {
   "cell_type": "markdown",
   "id": "822283a2-0b9a-4885-89b5-9f45ab73c459",
   "metadata": {},
   "source": [
    "## Define the function for learning the initial control set of obstacle"
   ]
  },
  {
   "cell_type": "code",
   "execution_count": 2,
   "id": "c0dfd88a-cbec-4c6e-afdc-b768471fde66",
   "metadata": {},
   "outputs": [],
   "source": [
    "class Initialization_Set_Estimation( ):\n",
    "    def __init__(self, Params):\n",
    "        \n",
    "        self.N_Sam = Params['N_pre_sam']\n",
    "        self.H = Params['H']\n",
    "        self.h = Params['h']\n",
    "        self.nv = Params['nv']\n",
    "        self.nu = Params['nu']\n",
    "        self.LinearProgramming = self.LinearProgramming( )\n",
    "    \n",
    "    def Return(self, samples, U_SV_Poly):\n",
    "        \n",
    "        theta_initial, y_initial = self.LinearProgramming(samples)\n",
    "        fW = Polytope(self.H, theta_initial)\n",
    "        U_hat_initial = fW + y_initial\n",
    "        \n",
    "        return theta_initial, y_initial, U_hat_initial\n",
    "    \n",
    "    def LinearProgramming(self): \n",
    "        H = self.H\n",
    "        h = self.h\n",
    "        N_Sam = self.N_Sam\n",
    "        nv = self.nv\n",
    "        nu = self.nu\n",
    "        \n",
    "        opti = casadi.Opti( )\n",
    "        \n",
    "        rho = opti.variable( )\n",
    "        theta = opti.variable(nv, 1)\n",
    "        y = opti.variable(nu, 1)\n",
    "        \n",
    "        samples = opti.parameter(self.nu, N_Sam)\n",
    "        \n",
    "        opti.minimize(rho + np.ones((1, nv))@theta)\n",
    "        \n",
    "        for i in range(N_Sam):\n",
    "            opti.subject_to(-H @ y <= theta - H @ samples[:, i])\n",
    "\n",
    "        opti.subject_to(H @ y <= 1 - rho)\n",
    "        opti.subject_to(opti.bounded(0, theta, 1))\n",
    "        opti.subject_to(opti.bounded(0, rho, 1))\n",
    "        opti.subject_to(theta <= rho)\n",
    "            \n",
    "        opts = {\"ipopt.print_level\": 0, \"print_time\": False}\n",
    "        opti.solver('ipopt', opts)\n",
    "        \n",
    "        return opti.to_function('f', [samples], [theta, y])"
   ]
  },
  {
   "cell_type": "markdown",
   "id": "a05f6991-726d-4edc-8789-c39891744582",
   "metadata": {},
   "source": [
    "## Basic Parameters"
   ]
  },
  {
   "cell_type": "code",
   "execution_count": 3,
   "id": "1f206e1a-d7f5-4e6c-bc98-14894fd8d6ff",
   "metadata": {
    "tags": []
   },
   "outputs": [],
   "source": [
    "T = 0.25 # time interval\n",
    "N = 10   # prediction horizon\n",
    "infinity  = 1000000 # infinity\n",
    "max_speed = 1.5     # max speed, m/s\n",
    "l_veh_sv  = 0.36  \n",
    "w_veh_sv  = 0.23  \n",
    "l_veh_ev  = 0.26  \n",
    "w_veh_ev  = 0.25  \n",
    "DEV  = 5 # dimenstion of EV\n",
    "DSV  = 4 # dimenstion of SV\n",
    "x_low  = 0 + l_veh_sv/2  # min x position, m\n",
    "y_low  = 0 + l_veh_sv/2  # min y position, m\n",
    "x_up   = 8 - l_veh_sv/2  # max x position, m\n",
    "y_up   = 8 - l_veh_sv/2  # max y position, m\n",
    "Drive_area        = Polytope(np.array([[x_low, y_low], [x_up, y_low], [x_up, y_up], [x_low, y_up]])) \n",
    "A_road = Drive_area.A\n",
    "b_road = Drive_area.b "
   ]
  },
  {
   "cell_type": "markdown",
   "id": "69cc6150-9a0b-477e-8053-53f071140349",
   "metadata": {},
   "source": [
    "## Define initial and target states of both the EV and SV"
   ]
  },
  {
   "cell_type": "code",
   "execution_count": 4,
   "id": "582968db-756a-4899-ad33-483251e0df2f",
   "metadata": {},
   "outputs": [],
   "source": [
    "RefPos_EV = [7, 5.5, 0]\n",
    "RefPos_SV = [1, 6.75, np.pi] \n",
    "x_EV_initial = np.array([0.2, 0.2, 0, 0, 0]) \n",
    "x_SV_initial = np.array([6.25, 1.2, -0.25*np.pi, 0])"
   ]
  },
  {
   "cell_type": "markdown",
   "id": "e43635e0-b019-48f8-aa8d-22613510ba86",
   "metadata": {},
   "source": [
    "## EV and SV Information"
   ]
  },
  {
   "cell_type": "code",
   "execution_count": 5,
   "id": "4100da02-0779-4e6d-87fb-a7f56378f74f",
   "metadata": {},
   "outputs": [],
   "source": [
    "A_SV = np.array([[1, T, 0, 0], [0, 1, 0, 0], [0, 0, 1, T], [0, 0, 0, 1]])\n",
    "B_SV = np.array([[0.5*T**2, 0], [T, 0], [0, 0.5*T**2], [0, T]])\n",
    "low_bound_control  = (-1, -1)   # lower bound on ax ay\n",
    "up_bound_control   = (1,   1)   # upper bound on ax ay\n",
    "\n",
    "X_SV_Poly = Polytope(lb = (x_low, 0, y_low, 0),   ub = (x_up, max_speed, y_up, max_speed)) # state admissible set of SV\n",
    "U_SV_Poly = Polytope(lb = low_bound_control, ub = up_bound_control) # control admissible set of SV\n",
    "\n",
    "H = U_SV_Poly.A\n",
    "h = U_SV_Poly.b\n",
    "nv = np.size(H, 0)\n",
    "nu = np.size(H, 1)\n",
    "for i in range(nv):\n",
    "    H[i, :] = H[i, :]/h[i]\n",
    "    h[i] = 1\n",
    "d_min    = np.sqrt((l_veh_sv/2)**2 + (w_veh_sv/2)**2) + np.sqrt((l_veh_ev/2)**2 + (w_veh_ev/2)**2)\n",
    "d_margin = 0.01"
   ]
  },
  {
   "cell_type": "code",
   "execution_count": 6,
   "id": "83010fb3-84de-498b-9151-ff5ff40ca46c",
   "metadata": {
    "tags": []
   },
   "outputs": [],
   "source": [
    "N_Car = 2\n",
    "opts_Parameters_EV = { \n",
    "    'd_min': d_min,\n",
    "    'T': T,     \n",
    "    'N': N,\n",
    "    'l_veh': l_veh_ev,\n",
    "    'w_veh': w_veh_ev,\n",
    "    'l_f': 0.08,\n",
    "    'l_r': 0.08,\n",
    "    'DEV': DEV,\n",
    "    'N_Car':N_Car,\n",
    "    'H': H,\n",
    "    'h': h,\n",
    "    'nv': nv,\n",
    "    'nu': nu,\n",
    "    'A_SV': A_SV,\n",
    "    'B_SV': B_SV,\n",
    "    'U_SV_Poly': U_SV_Poly,\n",
    "    'infinity': infinity,\n",
    "    'max_speed': max_speed,\n",
    "    'd_min': d_min,\n",
    "    'd_margin': d_margin,\n",
    "    'Q1': 1, # steering wheel angle\n",
    "    'Q2': 1, # longitudinal jerk\n",
    "    'Q3': 1, # long. velocity error\n",
    "    'Q4': 5, # long. pos. error\n",
    "    'Q5': 5, # lat. pos. error\n",
    "    'Q6': 2, # heading. error\n",
    "    'Q7': 300, # slack variable\n",
    "    'A_road': A_road,\n",
    "    'b_road': b_road,\n",
    "    'v_low': 0, # lower bound of vel.\n",
    "    'v_up': max_speed, # up bound of vel.\n",
    "    'acc_low': -0.5,  # lower bound of acc.\n",
    "    'acc_up': 0.5,     # up bound of acc.\n",
    "    'delta_low': -0.3, # lower bound of front tire angle.\n",
    "    'delta_up': 0.3, # up bound of front tire angle\n",
    "    'RefSpeed': 0, # terminal reference speed of EV\n",
    "    'RefPos': RefPos_EV, # terminal reference x-y position of EV\n",
    "}"
   ]
  },
  {
   "cell_type": "code",
   "execution_count": 7,
   "id": "0ab8606c-0cd2-4382-a155-7d4e0004ae3a",
   "metadata": {},
   "outputs": [],
   "source": [
    "opts_Parameters_SVTrue = { \n",
    "    'T': T,     \n",
    "    'N': N,\n",
    "    'l_veh': l_veh_sv,\n",
    "    'w_veh': w_veh_sv,\n",
    "    'l_f': 0.14,\n",
    "    'l_r': 0.14,\n",
    "    'DSV': 4,\n",
    "    'Q1': 1, # steering wheel angle\n",
    "    'Q2': 1, # longitudinal acceleration\n",
    "    'Q3': 4, # heading. velocity error\n",
    "    'Q4': 4, # long. pos. error\n",
    "    'Q5': 4, # lat. pos. error\n",
    "    'Q6': 4, # velocity error\n",
    "    'A_road': A_road,\n",
    "    'b_road': b_road,\n",
    "    'v_low': 0, # lower bound of vel.\n",
    "    'v_up': max_speed, # up bound of vel.\n",
    "    'acc_low': -0.3, #-3.43, # lower bound of acc.\n",
    "    'acc_up': 0.3,#2.27, # up bound of acc.\n",
    "    'delta_low': -0.6, # lowver bound of front tire angle.\n",
    "    'delta_up': 0.6, # up bound of front tire angle\n",
    "}"
   ]
  },
  {
   "cell_type": "markdown",
   "id": "41dcf808-3431-4b6f-a630-5bc5efecac8a",
   "metadata": {
    "tags": []
   },
   "source": [
    "## Motion Planning"
   ]
  },
  {
   "cell_type": "code",
   "execution_count": 8,
   "id": "cd9a19aa-e9a0-4d76-9411-6b0937d1a93a",
   "metadata": {
    "tags": []
   },
   "outputs": [],
   "source": [
    "MotionPlanner_D =  Planner_D(Params     = opts_Parameters_EV)\n",
    "MotionPlanner_N =  Planner_N(Params     = opts_Parameters_EV)\n",
    "MotionPlanner_R =  Planner_R(Params     = opts_Parameters_EV)\n",
    "ModelingSVTrue  = ModelingSVTrue(Params = opts_Parameters_SVTrue)"
   ]
  },
  {
   "cell_type": "code",
   "execution_count": 9,
   "id": "a3fc167e-d068-4ab8-b1c9-4535f4256d11",
   "metadata": {},
   "outputs": [
    {
     "name": "stdout",
     "output_type": "stream",
     "text": [
      "\n",
      "******************************************************************************\n",
      "This program contains Ipopt, a library for large-scale nonlinear optimization.\n",
      " Ipopt is released as open source code under the Eclipse Public License (EPL).\n",
      "         For more information visit https://github.com/coin-or/Ipopt\n",
      "******************************************************************************\n",
      "\n"
     ]
    }
   ],
   "source": [
    "N_pre_sam  = 8\n",
    "min_s      = 0.01\n",
    "samples_SV = np.array([[-min_s, -min_s], [-min_s, 0], [-min_s, min_s], [0, min_s], [min_s, min_s], [min_s, 0], [min_s, -min_s], [0, -min_s]])\n",
    "samples_SV = samples_SV.reshape(2, N_pre_sam)\n",
    "opts_Parameters_Initial_Set_Estimation ={'N_pre_sam': N_pre_sam,'H': H, 'h': h,'nv': nv,'nu': nu}\n",
    "Initialization_Set_Estimation = Initialization_Set_Estimation(Params = opts_Parameters_Initial_Set_Estimation)\n",
    "theta_initial, y_initial, U_hat_initial = Initialization_Set_Estimation.Return(samples_SV, U_SV_Poly)"
   ]
  },
  {
   "cell_type": "code",
   "execution_count": 10,
   "id": "ef1069b7-d655-4818-8fdf-46e056ef9aa9",
   "metadata": {},
   "outputs": [],
   "source": [
    "K_N = 55\n",
    "# SV\n",
    "State_SV     = np.zeros((4, K_N + 1))\n",
    "Control_SV =  np.zeros((2, K_N))\n",
    "# EV: state\n",
    "State_EV_D     = np.zeros((DEV, K_N + 1))\n",
    "State_EV_N      = np.zeros((DEV, K_N + 1))\n",
    "State_EV_R     = np.zeros((DEV, K_N + 1))\n",
    "# EV: control action\n",
    "Control_EV_D   = np.zeros((2, K_N))\n",
    "Control_EV_N    = np.zeros((2, K_N))\n",
    "Control_EV_R   = np.zeros((2, K_N))\n",
    "# EV: cost\n",
    "J_D = np.array([None]*(K_N))\n",
    "J_N  = np.array([None]*(K_N))\n",
    "J_R = np.array([None]*(K_N))\n",
    "# SV & EV planning\n",
    "X_SV_Planning = list( ) # SV planning full-state trajectory in the horizon\n",
    "X_EV_Planning_D = list( )\n",
    "X_EV_Planning_N = list( )\n",
    "X_EV_Planning_R = list( )\n",
    "# EV: robust tube\n",
    "Aug_Occupancy_SV_D = list( ) # augmented description of occupancy of SV over prediction horizon under D prediciion\n",
    "Aug_Occupancy_SV_N = list( ) # augmented description of occupancy of SV over prediction horizon under risk-aware prediciion\n",
    "Aug_Occupancy_SV_R = list( )  # augmented description of occupancy of SV over prediction horizon under nominal robust prediciion\n",
    "# EV: set parameters for online iteration of the uncertainty quantification\n",
    "Theta = list( ) # save the value of alpha_k at very time step\n",
    "Y     = list( )   # save the value of rho_k at every time step\n",
    "U_Hat = list( ) # save the polytope \\hat{U}_k at every time step\n",
    "# initiate\n",
    "State_SV[:, 0] = x_SV_initial\n",
    "State_EV_D[:, 0] = x_EV_initial\n",
    "State_EV_N[:, 0] = x_EV_initial\n",
    "State_EV_R[:, 0] = x_EV_initial\n",
    "Theta.append(theta_initial)\n",
    "Y.append(y_initial)\n",
    "U_Hat.append(U_hat_initial)"
   ]
  },
  {
   "cell_type": "code",
   "execution_count": 11,
   "id": "2fc35a78-2745-40bd-869b-499abea959bf",
   "metadata": {
    "tags": []
   },
   "outputs": [
    {
     "name": "stdout",
     "output_type": "stream",
     "text": [
      "the step is 0\n",
      "the step is 1\n",
      "the step is 2\n",
      "the step is 3\n",
      "the step is 4\n",
      "the step is 5\n",
      "the step is 6\n",
      "the step is 7\n",
      "the step is 8\n",
      "the step is 9\n",
      "the step is 10\n",
      "the step is 11\n",
      "the step is 12\n",
      "the step is 13\n",
      "the step is 14\n",
      "the step is 15\n",
      "the step is 16\n",
      "the step is 17\n",
      "the step is 18\n",
      "the step is 19\n",
      "the step is 20\n",
      "the step is 21\n",
      "the step is 22\n",
      "the step is 23\n",
      "the step is 24\n",
      "the step is 25\n",
      "the step is 26\n",
      "the step is 27\n",
      "the step is 28\n",
      "the step is 29\n",
      "the step is 30\n",
      "the step is 31\n",
      "the step is 32\n",
      "the step is 33\n",
      "the step is 34\n",
      "the step is 35\n",
      "the step is 36\n",
      "the step is 37\n",
      "the step is 38\n",
      "the step is 39\n",
      "the step is 40\n",
      "the step is 41\n",
      "the step is 42\n",
      "the step is 43\n",
      "the step is 44\n",
      "the step is 45\n",
      "the step is 46\n",
      "the step is 47\n",
      "the step is 48\n",
      "the step is 49\n",
      "the step is 50\n",
      "the step is 51\n",
      "the step is 52\n",
      "the step is 53\n",
      "the step is 54\n",
      "Average excution time:  0.33599567272221975\n"
     ]
    }
   ],
   "source": [
    "start = time.perf_counter( )\n",
    "\n",
    "for k in range(K_N):\n",
    "    if k == 0:\n",
    "        u_sv_before = samples_SV[:, -1]\n",
    "    else:\n",
    "        u_sv_before = np.array([Control_SV[:, k-1][1]*np.cos(State_SV[:, k-1][2]), Control_SV[:, k-1][1]*np.sin(State_SV[:, k-1][2])])\n",
    "    print('the step is', k)\n",
    "    #print('u_sv_before is', u_sv_before)\n",
    "    control_SV_k, x_SV_planning_k = ModelingSVTrue.Return(State_SV[:, k], RefPos_SV)\n",
    "    U_k_D, trajectory_planning_k_D, J_D_k, Occupancy_SV_aug_D_k = MotionPlanner_D.Return(State_SV[:, k],  State_EV_D[:, k])\n",
    "    U_k_N, trajectory_planning_k_N, J_N_k, Occupancy_SV_aug_N_k, theta_k, y_k, U_hat_k = MotionPlanner_N.Return(State_SV[:, k], State_EV_N[:, k], Theta[k-1], Y[k-1], u_sv_before)\n",
    "    U_k_R, trajectory_planning_k_R, J_R_k, Occupancy_SV_aug_R_k = MotionPlanner_R.Return(State_SV[:, k], State_EV_R[:, k])\n",
    "   \n",
    "    Control_SV[:, k] = control_SV_k\n",
    "    X_SV_Planning.append(x_SV_planning_k)\n",
    "    State_SV[:, k + 1] = x_SV_planning_k[:, 1]\n",
    "    \n",
    "    X_EV_Planning_D.append(trajectory_planning_k_D)\n",
    "    State_EV_D[:, k+1] = trajectory_planning_k_D[:, 1]\n",
    "    Control_EV_D[:, k] = U_k_D\n",
    "    Aug_Occupancy_SV_D.append(Occupancy_SV_aug_D_k)\n",
    "\n",
    "    X_EV_Planning_N.append(trajectory_planning_k_N)\n",
    "    State_EV_N[:, k+1] = trajectory_planning_k_N[:, 1]\n",
    "    Control_EV_N[:, k] = U_k_N\n",
    "    Aug_Occupancy_SV_N.append(Occupancy_SV_aug_N_k)\n",
    "    Theta.append(theta_k)\n",
    "    Y.append(y_k)\n",
    "    U_Hat.append(U_hat_k)\n",
    "\n",
    "    X_EV_Planning_R.append(trajectory_planning_k_R)\n",
    "    State_EV_R[:, k + 1] = trajectory_planning_k_R[:, 1]\n",
    "    Control_EV_R[:, k] = U_k_R\n",
    "    Aug_Occupancy_SV_R.append(Occupancy_SV_aug_R_k)\n",
    "    \n",
    "    J_D[k] = J_D_k\n",
    "    J_N[k] = J_N_k\n",
    "    J_R[k] = J_R_k\n",
    "    \n",
    "    samples_SV = np.hstack((samples_SV, np.array([Control_SV[:, k][1]*np.cos(State_SV[:, k][2]), Control_SV[:, k][1]*np.sin(State_SV[:, k][2])]).reshape(2, 1)))\n",
    "    \n",
    "end = time.perf_counter( )\n",
    "total_t = end - start\n",
    "print ('Average excution time: ', total_t/k)\n",
    "\n",
    "t = np.arange(0, T*(K_N + 1), T, dtype=float) # total simulation time"
   ]
  }
 ],
 "metadata": {
  "kernelspec": {
   "display_name": "Python 3 (ipykernel)",
   "language": "python",
   "name": "python3"
  },
  "language_info": {
   "codemirror_mode": {
    "name": "ipython",
    "version": 3
   },
   "file_extension": ".py",
   "mimetype": "text/x-python",
   "name": "python",
   "nbconvert_exporter": "python",
   "pygments_lexer": "ipython3",
   "version": "3.10.12"
  }
 },
 "nbformat": 4,
 "nbformat_minor": 5
}
